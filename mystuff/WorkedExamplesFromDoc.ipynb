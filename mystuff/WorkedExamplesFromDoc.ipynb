{
 "cells": [
  {
   "cell_type": "code",
   "execution_count": 6,
   "metadata": {},
   "outputs": [],
   "source": [
    "import os\n",
    "from eod import EodHistoricalData\n",
    "from random import randint\n",
    "api_key=os.environ['EOD_API_TOKEN']\n",
    "client=EodHistoricalData(api_key)"
   ]
  },
  {
   "cell_type": "markdown",
   "metadata": {},
   "source": [
    "### Historical Prices, Splits and Dividends Data APIs\n",
    "    This workbook contains some worked examples from the EOD historical data code repository located below:\n",
    "    \n",
    "    https://github.com/resonates7/eod-data/blob/main/README.md"
   ]
  },
  {
   "cell_type": "code",
   "execution_count": 72,
   "metadata": {},
   "outputs": [],
   "source": [
    "#Stock Price Data API (End-Of-Day Historical Data):\n",
    "# returns a nested list of data\n",
    "resp=client.get_prices_eod('AAPL', preiod='d', order='d', from_='2021-09-01')\n",
    "#resp"
   ]
  },
  {
   "cell_type": "code",
   "execution_count": 21,
   "metadata": {},
   "outputs": [],
   "source": [
    "#Technical Indicator API: Retrieve technical data associated with the price action of an instrument. The data \n",
    "#is mainly oriented to technical indicators rather than any other price-action methodology \n",
    "#(e.g., Elliot Waves, Wyckoff, etc.) \n",
    "measures = client.get_indicator_name()\n",
    "resp = client.get_instrument_ta('AAPL', function='wma', from_='2021-06-01')\n",
    "#measures, resp"
   ]
  },
  {
   "cell_type": "markdown",
   "metadata": {},
   "source": [
    "#### Intraday Historical Data API: \n",
    "\n",
    "Get intraday historical stock price data for US (NYSE and NASDAQ), Canada, and MOEX tickers. The 1-minute interval includes the pre-market and after-hours trading data from 2004 (more than 15 years of the data), and for the 5-minute intervals, the data starts from October 2020. For other tickers (mainly for international instruments), it is only available the 5-minute intervals and only from October 2020\n",
    "\n",
    "\n",
    "- symbol(str): Required - Name of the instrument to retrieve data.\n",
    "- interval(str): Required - use '5m' for 5-minutes intervals and '1m' for 1-minute intervals.\n",
    "- from_(str) and to(str): Optional - Use these parameters to filter data by datetime. Parameters should be passed in UNIX time with UTC timezone, for example, these values are correct: from_=1564752900 and to=1564753200 and correspond to 2019-08-02 13:35:00 and 2019-08-02 13:40:00 respectively. The maximum period between 'from_' and 'to' is 100 days. Try this site to converte dates into UNIX https://www.unixtimestamp.com/index.php\n"
   ]
  },
  {
   "cell_type": "code",
   "execution_count": 28,
   "metadata": {},
   "outputs": [],
   "source": [
    "resp=client.get_prices_intraday('EUR.FOREX', interval='5m', from_='1620136800', to='1620414000')\n",
    "#resp"
   ]
  },
  {
   "cell_type": "markdown",
   "metadata": {},
   "source": [
    "### Fundamental and Economic Financial Data APIs"
   ]
  },
  {
   "cell_type": "markdown",
   "metadata": {},
   "source": [
    "#### Insider Transactions API: \n",
    "\n",
    "The insider transactions API data is available for all US companies that report Form 4 to the SEC. Insider trading involves trading in a public company’s stock by someone who has non-public, material information about that stock for any reason. "
   ]
  },
  {
   "cell_type": "code",
   "execution_count": 33,
   "metadata": {},
   "outputs": [],
   "source": [
    "resp=client.get_insider_transactions(code='AAPL', from_='2015-01-01')\n",
    "#resp"
   ]
  },
  {
   "cell_type": "markdown",
   "metadata": {},
   "source": [
    "#### Fundamental Data: \n",
    "\n",
    "Stocks, ETFs, Mutual Funds, Indices: Access to fundamental data API for stocks, ETFs, Mutual Funds, and Indices from different exchanges and countries. Almost all major US, UK, EU, India, LATAM, and Asia exchanges are available. "
   ]
  },
  {
   "cell_type": "code",
   "execution_count": 38,
   "metadata": {},
   "outputs": [],
   "source": [
    "resp = client.get_fundamental_equity('QVAL.US') # ETF\n",
    "#resp"
   ]
  },
  {
   "cell_type": "code",
   "execution_count": 40,
   "metadata": {},
   "outputs": [],
   "source": [
    "# Stock - request the quarterly statements\n",
    "resp = client.get_fundamental_equity('AAPL.US', filter_='Financials::Balance_Sheet::quarterly')\n",
    "#resp"
   ]
  },
  {
   "cell_type": "code",
   "execution_count": 51,
   "metadata": {},
   "outputs": [],
   "source": [
    "# Stock - Request specific fields from the General layer\n",
    "resp = client.get_fundamental_equity('AAPL.US', filter_='General::Code,General, Earnings')\n",
    "#resp"
   ]
  },
  {
   "cell_type": "code",
   "execution_count": 45,
   "metadata": {},
   "outputs": [
    {
     "data": {
      "text/plain": [
       "dict_keys(['General::Code', 'General', 'Earnings'])"
      ]
     },
     "execution_count": 45,
     "metadata": {},
     "output_type": "execute_result"
    }
   ],
   "source": [
    "resp.keys()"
   ]
  },
  {
   "cell_type": "code",
   "execution_count": null,
   "metadata": {},
   "outputs": [],
   "source": [
    "'''\n",
    "\n",
    "more to come\n",
    "\n",
    "'''"
   ]
  },
  {
   "cell_type": "code",
   "execution_count": 54,
   "metadata": {},
   "outputs": [
    {
     "data": {
      "text/plain": [
       "'\\ntransform price to dataframe\\n'"
      ]
     },
     "execution_count": 54,
     "metadata": {},
     "output_type": "execute_result"
    }
   ],
   "source": [
    "'''\n",
    "transform price to dataframe\n",
    "'''"
   ]
  },
  {
   "cell_type": "code",
   "execution_count": 65,
   "metadata": {},
   "outputs": [],
   "source": [
    "import pandas as pd\n",
    "resp=client.get_prices_eod('AAPL', preiod='d', order='d', from_='2021-09-01')"
   ]
  },
  {
   "cell_type": "code",
   "execution_count": 66,
   "metadata": {},
   "outputs": [
    {
     "data": {
      "text/plain": [
       "dict"
      ]
     },
     "execution_count": 66,
     "metadata": {},
     "output_type": "execute_result"
    }
   ],
   "source": [
    "type(resp[0])"
   ]
  },
  {
   "cell_type": "code",
   "execution_count": 68,
   "metadata": {},
   "outputs": [
    {
     "data": {
      "text/html": [
       "<div>\n",
       "<style scoped>\n",
       "    .dataframe tbody tr th:only-of-type {\n",
       "        vertical-align: middle;\n",
       "    }\n",
       "\n",
       "    .dataframe tbody tr th {\n",
       "        vertical-align: top;\n",
       "    }\n",
       "\n",
       "    .dataframe thead th {\n",
       "        text-align: right;\n",
       "    }\n",
       "</style>\n",
       "<table border=\"1\" class=\"dataframe\">\n",
       "  <thead>\n",
       "    <tr style=\"text-align: right;\">\n",
       "      <th></th>\n",
       "      <th>date</th>\n",
       "      <th>open</th>\n",
       "      <th>high</th>\n",
       "      <th>low</th>\n",
       "      <th>close</th>\n",
       "      <th>adjusted_close</th>\n",
       "      <th>volume</th>\n",
       "    </tr>\n",
       "  </thead>\n",
       "  <tbody>\n",
       "    <tr>\n",
       "      <th>0</th>\n",
       "      <td>2021-09-13</td>\n",
       "      <td>150.63</td>\n",
       "      <td>151.41</td>\n",
       "      <td>148.75</td>\n",
       "      <td>149.55</td>\n",
       "      <td>149.55</td>\n",
       "      <td>97750498</td>\n",
       "    </tr>\n",
       "    <tr>\n",
       "      <th>1</th>\n",
       "      <td>2021-09-10</td>\n",
       "      <td>155.00</td>\n",
       "      <td>155.48</td>\n",
       "      <td>148.70</td>\n",
       "      <td>148.97</td>\n",
       "      <td>148.97</td>\n",
       "      <td>140646400</td>\n",
       "    </tr>\n",
       "    <tr>\n",
       "      <th>2</th>\n",
       "      <td>2021-09-09</td>\n",
       "      <td>155.49</td>\n",
       "      <td>156.11</td>\n",
       "      <td>153.95</td>\n",
       "      <td>154.07</td>\n",
       "      <td>154.07</td>\n",
       "      <td>57305700</td>\n",
       "    </tr>\n",
       "    <tr>\n",
       "      <th>3</th>\n",
       "      <td>2021-09-08</td>\n",
       "      <td>156.98</td>\n",
       "      <td>157.04</td>\n",
       "      <td>153.98</td>\n",
       "      <td>155.11</td>\n",
       "      <td>155.11</td>\n",
       "      <td>74420200</td>\n",
       "    </tr>\n",
       "    <tr>\n",
       "      <th>4</th>\n",
       "      <td>2021-09-07</td>\n",
       "      <td>154.97</td>\n",
       "      <td>157.26</td>\n",
       "      <td>154.39</td>\n",
       "      <td>156.69</td>\n",
       "      <td>156.69</td>\n",
       "      <td>82278300</td>\n",
       "    </tr>\n",
       "    <tr>\n",
       "      <th>5</th>\n",
       "      <td>2021-09-03</td>\n",
       "      <td>153.76</td>\n",
       "      <td>154.63</td>\n",
       "      <td>153.09</td>\n",
       "      <td>154.30</td>\n",
       "      <td>154.30</td>\n",
       "      <td>57808700</td>\n",
       "    </tr>\n",
       "    <tr>\n",
       "      <th>6</th>\n",
       "      <td>2021-09-02</td>\n",
       "      <td>153.87</td>\n",
       "      <td>154.72</td>\n",
       "      <td>152.40</td>\n",
       "      <td>153.65</td>\n",
       "      <td>153.65</td>\n",
       "      <td>71115500</td>\n",
       "    </tr>\n",
       "    <tr>\n",
       "      <th>7</th>\n",
       "      <td>2021-09-01</td>\n",
       "      <td>152.83</td>\n",
       "      <td>154.98</td>\n",
       "      <td>152.34</td>\n",
       "      <td>152.51</td>\n",
       "      <td>152.51</td>\n",
       "      <td>80313700</td>\n",
       "    </tr>\n",
       "  </tbody>\n",
       "</table>\n",
       "</div>"
      ],
      "text/plain": [
       "         date    open    high     low   close  adjusted_close     volume\n",
       "0  2021-09-13  150.63  151.41  148.75  149.55          149.55   97750498\n",
       "1  2021-09-10  155.00  155.48  148.70  148.97          148.97  140646400\n",
       "2  2021-09-09  155.49  156.11  153.95  154.07          154.07   57305700\n",
       "3  2021-09-08  156.98  157.04  153.98  155.11          155.11   74420200\n",
       "4  2021-09-07  154.97  157.26  154.39  156.69          156.69   82278300\n",
       "5  2021-09-03  153.76  154.63  153.09  154.30          154.30   57808700\n",
       "6  2021-09-02  153.87  154.72  152.40  153.65          153.65   71115500\n",
       "7  2021-09-01  152.83  154.98  152.34  152.51          152.51   80313700"
      ]
     },
     "execution_count": 68,
     "metadata": {},
     "output_type": "execute_result"
    }
   ],
   "source": [
    "df_prices = pd.DataFrame(resp)\n",
    "df_prices"
   ]
  },
  {
   "cell_type": "code",
   "execution_count": 70,
   "metadata": {},
   "outputs": [
    {
     "data": {
      "text/html": [
       "<div>\n",
       "<style scoped>\n",
       "    .dataframe tbody tr th:only-of-type {\n",
       "        vertical-align: middle;\n",
       "    }\n",
       "\n",
       "    .dataframe tbody tr th {\n",
       "        vertical-align: top;\n",
       "    }\n",
       "\n",
       "    .dataframe thead th {\n",
       "        text-align: right;\n",
       "    }\n",
       "</style>\n",
       "<table border=\"1\" class=\"dataframe\">\n",
       "  <thead>\n",
       "    <tr style=\"text-align: right;\">\n",
       "      <th></th>\n",
       "      <th>code</th>\n",
       "      <th>exchange</th>\n",
       "      <th>date</th>\n",
       "      <th>reportDate</th>\n",
       "      <th>ownerCik</th>\n",
       "      <th>ownerName</th>\n",
       "      <th>ownerRelationship</th>\n",
       "      <th>ownerTitle</th>\n",
       "      <th>transactionDate</th>\n",
       "      <th>transactionCode</th>\n",
       "      <th>transactionAmount</th>\n",
       "      <th>transactionPrice</th>\n",
       "      <th>transactionAcquiredDisposed</th>\n",
       "      <th>postTransactionAmount</th>\n",
       "      <th>link</th>\n",
       "    </tr>\n",
       "  </thead>\n",
       "  <tbody>\n",
       "    <tr>\n",
       "      <th>0</th>\n",
       "      <td>AAPL</td>\n",
       "      <td>US</td>\n",
       "      <td>2021-08-25</td>\n",
       "      <td>None</td>\n",
       "      <td>None</td>\n",
       "      <td>Timothy D Cook</td>\n",
       "      <td>None</td>\n",
       "      <td>CEO</td>\n",
       "      <td>2021-08-25</td>\n",
       "      <td>S</td>\n",
       "      <td>2386440</td>\n",
       "      <td>148.58</td>\n",
       "      <td>D</td>\n",
       "      <td>NaN</td>\n",
       "      <td>http://www.sec.gov/Archives/edgar/data/320193/...</td>\n",
       "    </tr>\n",
       "    <tr>\n",
       "      <th>1</th>\n",
       "      <td>AAPL</td>\n",
       "      <td>US</td>\n",
       "      <td>2021-08-06</td>\n",
       "      <td>None</td>\n",
       "      <td>None</td>\n",
       "      <td>Deirdre O'brien</td>\n",
       "      <td>None</td>\n",
       "      <td>SVP</td>\n",
       "      <td>2021-08-06</td>\n",
       "      <td>S</td>\n",
       "      <td>14877</td>\n",
       "      <td>145.99</td>\n",
       "      <td>D</td>\n",
       "      <td>NaN</td>\n",
       "      <td>http://www.sec.gov/Archives/edgar/data/320193/...</td>\n",
       "    </tr>\n",
       "    <tr>\n",
       "      <th>2</th>\n",
       "      <td>AAPL</td>\n",
       "      <td>US</td>\n",
       "      <td>2021-08-02</td>\n",
       "      <td>None</td>\n",
       "      <td>None</td>\n",
       "      <td>Katherine L. Adams</td>\n",
       "      <td>None</td>\n",
       "      <td>SVP</td>\n",
       "      <td>2021-08-02</td>\n",
       "      <td>S</td>\n",
       "      <td>17000</td>\n",
       "      <td>145.89</td>\n",
       "      <td>D</td>\n",
       "      <td>324164.0</td>\n",
       "      <td>http://www.sec.gov/Archives/edgar/data/320193/...</td>\n",
       "    </tr>\n",
       "    <tr>\n",
       "      <th>3</th>\n",
       "      <td>AAPL</td>\n",
       "      <td>US</td>\n",
       "      <td>2021-05-03</td>\n",
       "      <td>None</td>\n",
       "      <td>None</td>\n",
       "      <td>Katherine L Adams</td>\n",
       "      <td>None</td>\n",
       "      <td>SVP</td>\n",
       "      <td>2021-05-03</td>\n",
       "      <td>S</td>\n",
       "      <td>17000</td>\n",
       "      <td>132.80</td>\n",
       "      <td>D</td>\n",
       "      <td>333044.0</td>\n",
       "      <td>http://www.sec.gov/Archives/edgar/data/320193/...</td>\n",
       "    </tr>\n",
       "    <tr>\n",
       "      <th>4</th>\n",
       "      <td>AAPL</td>\n",
       "      <td>US</td>\n",
       "      <td>2021-05-03</td>\n",
       "      <td>None</td>\n",
       "      <td>None</td>\n",
       "      <td>Luca Maestri</td>\n",
       "      <td>None</td>\n",
       "      <td>CFO</td>\n",
       "      <td>2021-05-03</td>\n",
       "      <td>S</td>\n",
       "      <td>121072</td>\n",
       "      <td>132.81</td>\n",
       "      <td>D</td>\n",
       "      <td>143961.0</td>\n",
       "      <td>http://www.sec.gov/Archives/edgar/data/320193/...</td>\n",
       "    </tr>\n",
       "  </tbody>\n",
       "</table>\n",
       "</div>"
      ],
      "text/plain": [
       "   code exchange        date reportDate ownerCik           ownerName  \\\n",
       "0  AAPL       US  2021-08-25       None     None      Timothy D Cook   \n",
       "1  AAPL       US  2021-08-06       None     None     Deirdre O'brien   \n",
       "2  AAPL       US  2021-08-02       None     None  Katherine L. Adams   \n",
       "3  AAPL       US  2021-05-03       None     None   Katherine L Adams   \n",
       "4  AAPL       US  2021-05-03       None     None        Luca Maestri   \n",
       "\n",
       "  ownerRelationship ownerTitle transactionDate transactionCode  \\\n",
       "0              None        CEO      2021-08-25               S   \n",
       "1              None        SVP      2021-08-06               S   \n",
       "2              None        SVP      2021-08-02               S   \n",
       "3              None        SVP      2021-05-03               S   \n",
       "4              None        CFO      2021-05-03               S   \n",
       "\n",
       "   transactionAmount  transactionPrice transactionAcquiredDisposed  \\\n",
       "0            2386440            148.58                           D   \n",
       "1              14877            145.99                           D   \n",
       "2              17000            145.89                           D   \n",
       "3              17000            132.80                           D   \n",
       "4             121072            132.81                           D   \n",
       "\n",
       "   postTransactionAmount                                               link  \n",
       "0                    NaN  http://www.sec.gov/Archives/edgar/data/320193/...  \n",
       "1                    NaN  http://www.sec.gov/Archives/edgar/data/320193/...  \n",
       "2               324164.0  http://www.sec.gov/Archives/edgar/data/320193/...  \n",
       "3               333044.0  http://www.sec.gov/Archives/edgar/data/320193/...  \n",
       "4               143961.0  http://www.sec.gov/Archives/edgar/data/320193/...  "
      ]
     },
     "execution_count": 70,
     "metadata": {},
     "output_type": "execute_result"
    }
   ],
   "source": [
    "# now transform insider data to dataframe\n",
    "resp=client.get_insider_transactions(code='AAPL', from_='2015-01-01')\n",
    "df_insider = pd.DataFrame(resp)\n",
    "df_insider.head(5)"
   ]
  },
  {
   "cell_type": "code",
   "execution_count": null,
   "metadata": {},
   "outputs": [],
   "source": []
  }
 ],
 "metadata": {
  "kernelspec": {
   "display_name": "Python 3",
   "language": "python",
   "name": "python3"
  },
  "language_info": {
   "codemirror_mode": {
    "name": "ipython",
    "version": 3
   },
   "file_extension": ".py",
   "mimetype": "text/x-python",
   "name": "python",
   "nbconvert_exporter": "python",
   "pygments_lexer": "ipython3",
   "version": "3.8.5"
  }
 },
 "nbformat": 4,
 "nbformat_minor": 4
}
